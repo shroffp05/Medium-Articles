{
 "cells": [
  {
   "attachments": {},
   "cell_type": "markdown",
   "id": "c1804ca6",
   "metadata": {},
   "source": [
    "## Matplotlib - Advanced Topics \n",
    "\n",
    "One of the most common visualization tool in python is the matplotlib package. To create quick visuals for your data, matplotlib provides a simple and easy to use array of functions that help you see patterns in your data. \n",
    "\n",
    "When it comes to data exploration, the default outputs of these function do a good enough job to help us understand the data we are working with. But matplotlib provide so much more than the default graphs. \n",
    "\n",
    "In this article, we will explore three topics that you might not know matplotlib provides. \n",
    "\n",
    "We will first look at rcParams and how you to use it to set different styles for your plots. Next, we will dive into annotations to help draw users attentions to particular items on your plot and then finally we will look into creating animations using matplotlib. "
   ]
  },
  {
   "cell_type": "code",
   "execution_count": null,
   "id": "3b63001a",
   "metadata": {},
   "outputs": [],
   "source": []
  }
 ],
 "metadata": {
  "kernelspec": {
   "display_name": "Python 3 (ipykernel)",
   "language": "python",
   "name": "python3"
  },
  "language_info": {
   "codemirror_mode": {
    "name": "ipython",
    "version": 3
   },
   "file_extension": ".py",
   "mimetype": "text/x-python",
   "name": "python",
   "nbconvert_exporter": "python",
   "pygments_lexer": "ipython3",
   "version": "3.9.13"
  }
 },
 "nbformat": 4,
 "nbformat_minor": 5
}
