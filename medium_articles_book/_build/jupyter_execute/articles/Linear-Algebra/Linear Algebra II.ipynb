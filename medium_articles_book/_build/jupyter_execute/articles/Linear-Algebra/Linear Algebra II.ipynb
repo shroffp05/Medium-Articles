{
 "cells": [
  {
   "cell_type": "markdown",
   "id": "a95c8580",
   "metadata": {},
   "source": [
    "# Linear Algebra Part 2\n",
    "\n",
    "This is the second article in a three-part series about how to use numpy for linear algebra. If you havent read my first article, you can read it here. \n",
    "\n",
    "The first article focused on the basics on linear alegra in numpy, specifically representing vectors and matrices, performing simple arithmetic, dot & cross product, unit vectors and vector-vector/vector-matrix/matrix-matrix multiplication. This second article will tackle some intermediate concepts in linear algebra and how to solve them using numpy. \n",
    "\n",
    "The first thing we will focus on is solving a linear system, moving on to determinants & traces, inverse and transpose of matrices and finally ending with eigenvalues and eigenvectors. "
   ]
  },
  {
   "cell_type": "markdown",
   "id": "99412fe3",
   "metadata": {},
   "source": [
    "## Part 1: Solving a linear system\n",
    "\n",
    "In school you were taught how to solve two equations with two unknowns using elimination and substitution. For example, lets say we have two equations:\n",
    "$4x + 2y = 14$\n",
    "\n",
    "$3x - 5y = -22$\n",
    "\n",
    "We could solve these linear equations by elimination and subsititution to find $x = 1$ and $y = 5$\n",
    "\n",
    "We can rewrite these equations in the form of a matrix:\n",
    "$\\begin{pmatrix}\n",
    "    4 & 2 \\\\ \n",
    "    3 & -5\n",
    " \\end{pmatrix}$$\\begin{pmatrix} x \\\\ y \\end{pmatrix}$ = $\\begin{pmatrix} 14 \\\\ -22 \\end{pmatrix}$\n",
    " \n",
    "In reality we would rarely encouter a 2x2 matrix. More often than not, the matrices would be much bigger and trying to solve them using elimination and subsitution would get very complex very quickly. Converting them to matrices and then solving it makes it much easier. \n",
    "\n",
    "We can rewrite any system of linear equations like this: $AX = B$, where A is our $nxn$ matrix of coefficients (**Note the matrix does not have to be a square matrix {rows=columns}, but for this tutorial we will assume square matrices**), X is our $nx1$ vector of variables and B is our $nx1$ vector of output.\n",
    "\n",
    "So how would you solve the above system equations when written in matrix form? \n",
    "\n",
    "First thing I want to introduce is this concept called <i><b>Augmented Matrix</b></i>. Augmented matrix is just a notational concept, where we rewrite the matrix equation ($AX = B$) in a way where its easy to solve. In augmented matrix terms, the above equations would be written like this:\n",
    "$\\begin{pmatrix}\n",
    "    4 & 2 & | & 14 \\\\\n",
    "    3 & -5 & | & -22\n",
    "\\end{pmatrix}$\n",
    "\n",
    "Now to solve this system, we can use row operations to find the solution. I am not going to go over row operations, since the focus of this article is on solving systems of equations using numpy; however, if you want to read up about row operations and RROE form (Reduced Row Echelon Forms) you can do so [here](https://math.libretexts.org/Bookshelves/Algebra/Intermediate_Algebra_(OpenStax)/04%3A_Systems_of_Linear_Equations/4.06%3A_Solve_Systems_of_Equations_Using_Matrices).\n",
    "\n",
    "In numpy, we have the `np.linalg.solve` function that helps us find the solution to a system of linear equations. "
   ]
  },
  {
   "cell_type": "code",
   "execution_count": 1,
   "id": "c565f300",
   "metadata": {},
   "outputs": [],
   "source": [
    "# we first import numpy\n",
    "import numpy as np "
   ]
  },
  {
   "cell_type": "code",
   "execution_count": 2,
   "id": "dec0b383",
   "metadata": {},
   "outputs": [],
   "source": [
    "# initialize each equation as a numpy array\n",
    "a = np.array([[4,2],[3,-5]])\n",
    "b = np.array([14,-22])"
   ]
  },
  {
   "cell_type": "code",
   "execution_count": 3,
   "id": "168c707e",
   "metadata": {},
   "outputs": [
    {
     "data": {
      "text/plain": [
       "array([1., 5.])"
      ]
     },
     "execution_count": 3,
     "metadata": {},
     "output_type": "execute_result"
    }
   ],
   "source": [
    "# use np.linalg.solve to find the solution\n",
    "np.linalg.solve(a,b)"
   ]
  },
  {
   "cell_type": "markdown",
   "id": "de956dab",
   "metadata": {},
   "source": [
    "As you can see, it gave us the same result as the elimination-substitution method. You can find more information about `linalg.solve` on numpy's website linked [here](https://numpy.org/doc/stable/reference/generated/numpy.linalg.solve.html). But the most important thing I want to call out about using the `linalg.solve` function is that it finds the exact solution, and in order to do that it has some requirements. It only accepts a <b>full rank</b> and a <b>square</b> matrix as \"a\". Full rank just means that all columns and/or rows are linearly independent. Some more information about rank can be found [here](https://stattrek.com/matrix-algebra/matrix-rank.aspx).\n",
    "\n",
    "Like I said earlier, your system of equations doesnt have to be square or a full matrix, however, you wont be able to use the `linalg.solve` function to find a solution to that system of equations. \n",
    "\n",
    "You can find the rank of a matrix using the `np.linalg.matrix_rank` function."
   ]
  },
  {
   "cell_type": "code",
   "execution_count": 4,
   "id": "8c34a9a5",
   "metadata": {},
   "outputs": [
    {
     "data": {
      "text/plain": [
       "2"
      ]
     },
     "execution_count": 4,
     "metadata": {},
     "output_type": "execute_result"
    }
   ],
   "source": [
    "np.linalg.matrix_rank(a)"
   ]
  },
  {
   "cell_type": "markdown",
   "id": "268d6515",
   "metadata": {},
   "source": [
    "Now the question arises, is there a way to figure out whether my square matrix is full rank? The answer to this question provides a great transition to our next topic which is <b>Determinants</b>. \n",
    "\n",
    "## Part 2: Determinants and Traces\n",
    "\n",
    "In mathematics, the determinant is a scalar value that is a function of the entries of a square matrix.<sup>1</sup> \n",
    "\n",
    "As the definition states, determinants can only be calculated for a square matrix. I will illustrate 2 examples of how determinants are calculated for a 2x2 and a 3x3 matrix; the method remains the same for higher-order matrices, however, they get computationally harder as the number of rows and columns increases, and you will see why when we caluclate the determinant of a 3x3 matrix. \n",
    "\n",
    "Lets say A is a 2x2 matrix\n",
    "$A_{2x2} = \\begin{pmatrix} \n",
    "                2 & 6 \\\\\n",
    "                1 & 2\n",
    "           \\end{pmatrix}$\n",
    "           \n",
    "The determinant of A, denoted as $det(A)$, for a 2x2 matrix is calculated by multiplying the diagonal enteries of the matrix and subtracting them. \n",
    "\n",
    "So in our example, $det(A) = (2*2) - (6*1) = -2$\n",
    "\n",
    "Generalizing it to any 2x2 matrix:\n",
    "\n",
    "$A_{2x2} = \\begin{pmatrix} \n",
    "                a_{1,1} & a_{1,2} \\\\\n",
    "                a_{2,1} & a_{2,2}\n",
    "           \\end{pmatrix}$\n",
    "           \n",
    "$det(A) = (a_{1,1} * a_{2,2}) - (a_{1,2} * a_{2,1})$\n",
    "\n",
    "Moving on to a 3x3 matrix example:\n",
    "\n",
    "$A_{3,3} = \\begin{pmatrix} \n",
    "                1 & 6 & 3 \\\\\n",
    "                3 & 2 & 5 \\\\\n",
    "                8 & 9 & 9\n",
    "           \\end{pmatrix}$\n",
    "           \n",
    "Now it gets a little more complicated. \n",
    "\n",
    "For calcualting determinants of a 3x3 matrix, the first step is to pick any row. We will use the first one: $<1,6,3>$.\n",
    "\n",
    "Next, we start with the firt value in that row which is 1. Now draw vertical and horizontal line segments through 1 and the matrix that remains is $\\begin{pmatrix} 2 & 5 \\\\ 9&9 \\end{pmatrix}$. Now we find the determinant of this matrix, which we know how to from the previous section. So the determinant of this matrix is $18-45 = -27$. And finally multiply this by 1, which was the first value in the row we selected. \n",
    "\n",
    "Now follow the same steps with 6 and then 3. What we get is an equation like this:\n",
    "$det(A) = 1*det(\\begin{pmatrix} 2&5 \\\\ 9&9 \\end{pmatrix}) - 6*det(\\begin{pmatrix} 3&5 \\\\ 8&9 \\end{pmatrix}) + 3*det(\\begin{pmatrix} 3&2 \\\\ 8&9 \\end{pmatrix})$\n",
    "\n",
    "Notice, we subtract the second term. The sign keeps alternating. \n",
    "\n",
    "So solving that equation we get:\n",
    "$det(A) = 1*(18-45) - 6*(27-40) + 3*(27-16) = -27 + 78 + 33 = 84$ \n",
    "\n",
    "One thing to note is the determinant formula is agnostic of what row we choose to start with. Try finding the determinant of the above matrix, by starting with the second or third row and compare whether you get the same answer. \n",
    "\n",
    "Generalizing this to any 3x3 matrix:\n",
    "\n",
    "$A_{3,3} = \\begin{pmatrix} \n",
    "                a_{1,1} & a_{1,2} & a_{1,3} \\\\\n",
    "                a_{2,1} & a_{2,2} & a_{2,3} \\\\\n",
    "                a_{3,1} & a_{3,2} & a_{3,3}\n",
    "           \\end{pmatrix}$ \n",
    "           \n",
    "$det(A) = a_{1,1}*det(\\begin{pmatrix} \n",
    "                        a_{2,2} & a_{2,3} \\\\ \n",
    "                        a_{3,2} & a_{3,3} \n",
    "                      \\end{pmatrix})\n",
    "    - a_{1,2}*det(\\begin{pmatrix} a_{2,1} & a_{2,3} \\\\ a_{3,1} & a_{3,3} \\end{pmatrix}) \n",
    "    + a_{1,3}*det(\\begin{pmatrix} a_{2,1} & a_{2,2} \\\\ a_{3,1} & a_{3,2} \\end{pmatrix})$\n",
    "\n",
    "The process remains the same for 4x4, 5x5 and higher order matrices, but as you can imagine, it gets more computionally difficult to do by hand when the number of rows and columns is large. Which is why we can rely on NumPy to do the calculations for us. NumPy has the `linalg.det` function that calculates the determinant of a matrix. "
   ]
  },
  {
   "cell_type": "code",
   "execution_count": 5,
   "id": "fa1e9b03",
   "metadata": {},
   "outputs": [
    {
     "data": {
      "text/plain": [
       "-2.0"
      ]
     },
     "execution_count": 5,
     "metadata": {},
     "output_type": "execute_result"
    }
   ],
   "source": [
    "# calculating the determinant for our 2x2 example\n",
    "a = np.array([[2,6],[1,2]])\n",
    "\n",
    "np.linalg.det(a)"
   ]
  },
  {
   "cell_type": "code",
   "execution_count": 6,
   "id": "2ecdfaa4",
   "metadata": {},
   "outputs": [
    {
     "data": {
      "text/plain": [
       "83.99999999999999"
      ]
     },
     "execution_count": 6,
     "metadata": {},
     "output_type": "execute_result"
    }
   ],
   "source": [
    "# calculating the determinant for our 3x3 example \n",
    "a = np.array([[1,6,3],[3,2,5],[8,9,9]])\n",
    "\n",
    "np.linalg.det(a)"
   ]
  },
  {
   "cell_type": "markdown",
   "id": "7e77ebd1",
   "metadata": {},
   "source": [
    "As you can see the value we got for our determinant of the 3x3 matrix is 83.9999999 and not 84. Why is that? That is due to the floating point error. I am not going to dig into that in this article, but heres a link if you want to know more about [it](https://www.geeksforgeeks.org/floating-point-error-in-python/).\n",
    "\n",
    "Coming back to the question from the last section. How do we know if your square matrix is full rank? The answer to that is, your matrix is full rank if and only if the determinant is not zero. "
   ]
  },
  {
   "cell_type": "markdown",
   "id": "d68b2e59",
   "metadata": {},
   "source": [
    "The next topic is `trace`. Trace is another operator that only exists for square matrices. It is defined as the sum of the values in the main diagonal and is denoted as `tr(A)`. \n",
    "\n",
    "So for a 3x3 matrix:\n",
    "$A_{3,3} = \\begin{pmatrix} \n",
    "                a_{1,1} & a_{1,2} & a_{1,3} \\\\\n",
    "                a_{2,1} & a_{2,2} & a_{2,3} \\\\\n",
    "                a_{3,1} & a_{3,2} & a_{3,3}\n",
    "           \\end{pmatrix}$ \n",
    "the trace of this matrix is $tr(A) = a_{1,1} + a_{2,2} + a_{3,3}$\n",
    "\n",
    "Taking the 3x3 matrix example from the previous section. \n",
    "$A_{3,3} = \\begin{pmatrix} \n",
    "                1 & 6 & 3 \\\\\n",
    "                3 & 2 & 5 \\\\\n",
    "                8 & 9 & 9\n",
    "           \\end{pmatrix}$\n",
    "           \n",
    "the trace of this matrix is $tr(A) = 1 + 2 + 9 = 12$\n",
    "\n",
    "In numpy, you can use the `np.trace()` function to find it."
   ]
  },
  {
   "cell_type": "code",
   "execution_count": 7,
   "id": "2559dfbd",
   "metadata": {},
   "outputs": [
    {
     "data": {
      "text/plain": [
       "12"
      ]
     },
     "execution_count": 7,
     "metadata": {},
     "output_type": "execute_result"
    }
   ],
   "source": [
    "a = np.array([[1,6,3],[3,2,5],[8,9,9]])\n",
    "\n",
    "np.trace(a)"
   ]
  },
  {
   "cell_type": "markdown",
   "id": "e722125b",
   "metadata": {},
   "source": [
    "There are many properties of traces, but I am only going to highlight couple of them here. One of the properties of trace is that it is a linear mapping. What that means is:\n",
    "- $tr(A+B) = tr(A) + tr(B)$, where A and B are nxn matrix\n",
    "- $c*tr(A) = tr(c*A)$, where c is a scalar constant\n",
    "\n",
    "Lets illustrate the linear mapping property with some examples. We will take 2 2x2 matrices:\n",
    "\n",
    "$A_{2,2} = \\begin{pmatrix} \n",
    "                1 & 3 \\\\\n",
    "                4 & 8\n",
    "           \\end{pmatrix}$\n",
    "           \n",
    "$B_{2,2} = \\begin{pmatrix} \n",
    "                2 & 6 \\\\\n",
    "                1 & 2\n",
    "           \\end{pmatrix}$\n",
    "\n",
    "$c = 4$\n",
    "\n",
    "In this case, the $tr(A) = 9$ and $tr(B)=4$, therefore $tr(A) + tr(B) = 13$. And $c*tr(A) = 36$. Lets check with numpy whether the trace of the sum of matrix A and B and multiplying with a scalar constant gives us the same answer. "
   ]
  },
  {
   "cell_type": "code",
   "execution_count": 8,
   "id": "f4cbd588",
   "metadata": {},
   "outputs": [
    {
     "data": {
      "text/plain": [
       "13"
      ]
     },
     "execution_count": 8,
     "metadata": {},
     "output_type": "execute_result"
    }
   ],
   "source": [
    "a = np.array([[1,3],[4,8]])\n",
    "b = np.array([[2,6], [1,2]])\n",
    "\n",
    "sum_matrix = a+b\n",
    "\n",
    "np.trace(sum_matrix)"
   ]
  },
  {
   "cell_type": "code",
   "execution_count": 9,
   "id": "334cabd5",
   "metadata": {},
   "outputs": [
    {
     "data": {
      "text/plain": [
       "36"
      ]
     },
     "execution_count": 9,
     "metadata": {},
     "output_type": "execute_result"
    }
   ],
   "source": [
    "c = 4 \n",
    "prod_matrix = c*a\n",
    "\n",
    "np.trace(prod_matrix)"
   ]
  },
  {
   "cell_type": "markdown",
   "id": "409501c9",
   "metadata": {},
   "source": [
    "More comprehensive list of properties of traces can be found [here](https://en.wikipedia.org/wiki/Trace_(linear_algebra))."
   ]
  },
  {
   "cell_type": "markdown",
   "id": "9d53f58f",
   "metadata": {},
   "source": [
    "## Part 3: Inverse and Transpose of Matrices\n",
    "\n",
    "We will first look at Transpose of matrices. A simple concept, where we just replace the rows with the columns. \n",
    "\n",
    "Let A be a 3x3 matrix:\n",
    "$A_{3,3} = \\begin{pmatrix} \n",
    "                2 & 6 & 0 \\\\\n",
    "                9 & 3 & 8 \\\\\n",
    "                10 & 6 & 3\n",
    "           \\end{pmatrix}$\n",
    "           \n",
    "The transpose of this matrix, denoted as $A^{T}$ is $\\begin{pmatrix} \n",
    "                2 & 9 & 10 \\\\\n",
    "                6 & 3 & 6 \\\\\n",
    "                0 & 8 & 3\n",
    "           \\end{pmatrix}$\n",
    "           \n",
    "In NumPy, you can use the `np.transpose` function. "
   ]
  },
  {
   "cell_type": "code",
   "execution_count": 10,
   "id": "ac7fd8cb",
   "metadata": {},
   "outputs": [
    {
     "data": {
      "text/plain": [
       "array([[ 2,  9, 10],\n",
       "       [ 6,  3,  6],\n",
       "       [ 0,  8,  3]])"
      ]
     },
     "execution_count": 10,
     "metadata": {},
     "output_type": "execute_result"
    }
   ],
   "source": [
    "a = np.array([[2,6,0],[9,3,8],[10,6,3]])\n",
    "\n",
    "np.transpose(a)"
   ]
  },
  {
   "cell_type": "markdown",
   "id": "9ab83f3a",
   "metadata": {},
   "source": [
    "Next we will talk about inverse of a matrix. This is an important concept since it shows up in many applications like linear regression and eigen decomposition <i>(both topics will be covered in the next article)</i>. The inverse of a matrix $A$ is denoted as $A^{-1}$. \n",
    "\n",
    "An n-by-n square matrix A is called invertible (also nonsingular or nondegenerate), if there exists an n-by-n square matrix B such that\n",
    "\n",
    "$\\mathbf {AB} =\\mathbf {BA} =\\mathbf {I} _{n}$ \n",
    "where $I_{n}$ denotes the n-by-n identity matrix and the multiplication used is ordinary matrix multiplication. If this is the case, then the matrix B is uniquely determined by A, and is called the (multiplicative) inverse of A, denoted by $A^{−1}$ \n",
    "\n",
    "Similar to an integer, when multiplied by its inverse gives you 1, multiplying a matrix by its inverse gives us the identity matrix. However, unlike integers not all matrices have an inverse. A matrix that does not have an inverse is called a <b>singular matrix</b>. A singular matrix occurs if and only if the determinant of the matrix is zero. <sup>2</sup>\n",
    "\n",
    "Connecting this back to the discussion we had about rank in the first section, a square matrix is said to be not invertible if and only if the matrix does not have a full rank. And we know that a matrix that has a full rank also has a deteriminant greater than zero. \n",
    "\n",
    "Calculating the inverse of a 2x2 matrix is easy, but it gets computionally challenging with higher order matrices. However, NumPy makes it easier for us to calcualte the inverse of a matrix. You can use the `np.linalg.inv` function to find the inverse of a square matrix. "
   ]
  },
  {
   "cell_type": "code",
   "execution_count": 11,
   "id": "096b5c7c",
   "metadata": {},
   "outputs": [
    {
     "data": {
      "text/plain": [
       "array([[-0.1625    , -0.075     ,  0.2       ],\n",
       "       [ 0.22083333,  0.025     , -0.06666667],\n",
       "       [ 0.1       ,  0.2       , -0.2       ]])"
      ]
     },
     "execution_count": 11,
     "metadata": {},
     "output_type": "execute_result"
    }
   ],
   "source": [
    "# Calculating the inverse of a 3x3 matrix\n",
    "a = np.array([[2,6,0],[9,3,8],[10,6,3]])\n",
    "\n",
    "np.linalg.inv(a)"
   ]
  },
  {
   "cell_type": "code",
   "execution_count": 12,
   "id": "c67f1025",
   "metadata": {},
   "outputs": [
    {
     "name": "stdout",
     "output_type": "stream",
     "text": [
      "Determinant of matrix is: 0.0\n",
      "Error finding Inverse\n"
     ]
    }
   ],
   "source": [
    "# Supplying a 2x2 matrix whose determinant is zero \n",
    "a = np.array([[2,3], [2,3]])\n",
    "\n",
    "print(\"Determinant of matrix is: {}\".format(np.linalg.det(a)))\n",
    "\n",
    "try:\n",
    "    np.linalg.inv(a)\n",
    "except np.linalg.LinAlgError:\n",
    "    print(\"Error finding Inverse\")"
   ]
  },
  {
   "cell_type": "code",
   "execution_count": 13,
   "id": "9adb2e62",
   "metadata": {},
   "outputs": [
    {
     "data": {
      "text/plain": [
       "array([[ 1.00000000e+00,  0.00000000e+00, -5.55111512e-17],\n",
       "       [ 0.00000000e+00,  1.00000000e+00,  0.00000000e+00],\n",
       "       [-1.66533454e-16,  0.00000000e+00,  1.00000000e+00]])"
      ]
     },
     "execution_count": 13,
     "metadata": {},
     "output_type": "execute_result"
    }
   ],
   "source": [
    "# Multiplying the inverse of a matrix with the matrix gives us the identity matrix\n",
    "a = np.array([[2,6,0],[9,3,8],[10,6,3]])\n",
    "\n",
    "a_inv = np.linalg.inv(a)\n",
    "\n",
    "np.matmul(a, a_inv)"
   ]
  },
  {
   "cell_type": "markdown",
   "id": "78b5acaa",
   "metadata": {},
   "source": [
    "As you can see, barring the floating point error, multiplying $A$ and $A^{-1}$ gives us the identity matrix."
   ]
  },
  {
   "cell_type": "markdown",
   "id": "13316545",
   "metadata": {},
   "source": [
    "## Part 4: Eigenvalues and Eigenvectors\n",
    "\n",
    "Our final topic for this article is eigenvalues and eigenvectors. \n",
    "\n",
    "The word <i>\"eigen\"</i> comes from the german word, meaning own. In linear algebra, an eigenvector $v$ of a linear transformation $T$, is a non-zero vector that doesnt change direction after the T linear transformation has been applied to it. It only changes magnitude by the factor of its eigenvalue <sup>3</sup>. \n",
    "\n",
    "What that means is, when a linear transformation, such as stretching, rotating etc, is applied to the vector, it does not change is original direction, just the magnitude by a factor of its eigenvalue. \n",
    "\n",
    "Algebraically, this can be written as: \n",
    "\n",
    "> $Av = \\lambda v$\n",
    "\n",
    "Where 𝐴 is $nxn$ matrix, $x$ is $nx1$ column vector ($X\\neq0$), and $\\lambda$ is some scalar. Any $\\lambda$ that satisfies the above equation is known as an eigenvalue of the matrix $A$, while the associated vector $x$ is called an eigenvector corresponding to $\\lambda$. <sup>4</sup>\n",
    "\n",
    "You can solve the above equation manually to find all the eigenvectors and eigenvalues; to find how to do so you can check out this [link](https://lpsa.swarthmore.edu/MtrxVibe/EigMat/MatrixEigen.html). \n",
    "\n",
    "Lets take an example. Let $u$ and $v$ be two vectors in $R^{2}$. \n",
    "\n",
    "$u = \\begin{bmatrix} 1 \\\\ 1 \\end{bmatrix}$ $v = \\begin{bmatrix} 1 \\\\ 3 \\end{bmatrix}$\n",
    "\n",
    "If we apply the linear transformation $A = \\begin{pmatrix} 2 & 2 \\\\ 5 & -1 \\end{pmatrix}$ to both the vectors, the following change occurs:\n",
    "\n",
    "{gif}\n",
    "\n",
    "As you can see the vector $u$ did not change its original direction after the linear transformation was applied, it was merely scaled. The scaling factor is its eigenvalue. However, the vector $v$ did change its direction and magintude. So we can say, for the matrix $A$, there exists an eigenvector $u$. \n",
    "\n",
    "<i>(Note there might be more than one eigenvectors and in fact in this case, matrix $A$ does have more than one eigenvectors as we will see when we use python to find them)</i>\n",
    "\n",
    "In NumPy, we can use the `linalg.eig` function to find the eignevalues and eigenvectors of a matrix. Note that this function also requires a <b>square matrix</b>. More information about the function, requirements and how it solves the equation can be found [here](https://numpy.org/doc/stable/reference/generated/numpy.linalg.eig.html)."
   ]
  },
  {
   "cell_type": "code",
   "execution_count": 14,
   "id": "acdd0bc7",
   "metadata": {},
   "outputs": [
    {
     "name": "stdout",
     "output_type": "stream",
     "text": [
      "Eigenvalues are:  [ 4. -3.]\n",
      "Eigenvectors are:  [[ 0.70710678 -0.37139068]\n",
      " [ 0.70710678  0.92847669]]\n"
     ]
    }
   ],
   "source": [
    "# Use the above example \n",
    "\n",
    "a = np.array([[2,2],[5,-1]])\n",
    "\n",
    "w, v = np.linalg.eig(a)\n",
    "\n",
    "print(\"Eigenvalues are: \", w)\n",
    "print(\"Eigenvectors are: \", v)"
   ]
  },
  {
   "cell_type": "markdown",
   "id": "8353379b",
   "metadata": {},
   "source": [
    "`linalg.eig` outputs two values. The first one, <i>w</i> is the list of eigenvalues, which in our case are 4 and -3. The second output is a matrix of the right eigenvectors normalized. And the way they are connected is as follows:\n",
    "> the first column of the matrix, is the eigenvector that corresponds to the first eigenvalue. In other words, 4 is the eigenvalue whose corresponding eigenvector is [0.707, 0.707] \n",
    "> same thing follows the second eigenvector and column. \n",
    "\n",
    "Now in our example we said the vector $u$ was the eigenvector for the linear trasnformation for the matrix $A$. If we normalize the vector $u$, we would get the same result as the first column of the matrix above. And we can find the scaling factor and that would be equal to 4. \n",
    "\n",
    "Some important properties of eigenvalues and eigenvectors:\n",
    "- Matrix $A$ and $A^{T}$ have the same eigenvectors. \n",
    "- Matrix $A$ and $A^{-1}$ have the same eigenvalues. \n",
    "- Sum of the eigenvalues is equal to the trace of the matrix.\n",
    "- Product of the eigenvalues is equal to the determinant of the matrix. \n",
    "\n",
    "More properties and their proofs can be found [here](https://math.libretexts.org/Bookshelves/Linear_Algebra/Fundamentals_of_Matrix_Algebra_(Hartman)/04%3A_Eigenvalues_and_Eigenvectors/4.02%3A_Properties_of_Eigenvalues_and_Eigenvectors). "
   ]
  },
  {
   "cell_type": "markdown",
   "id": "79b4adf2",
   "metadata": {},
   "source": [
    "Thanks for reading and hopefully you found this article useful. Any feedback is appreciated! \n",
    "\n",
    "My next article will focus on matrix decompositions and how linear algebra can be used to solve the linear regression problem. "
   ]
  },
  {
   "cell_type": "code",
   "execution_count": 15,
   "id": "a38d1231",
   "metadata": {},
   "outputs": [
    {
     "data": {
      "image/png": "[encoded data removed]",
      "text/plain": [
       "<Figure size 432x288 with 1 Axes>"
      ]
     },
     "metadata": {
      "filenames": {
       "image/png": "/Users/priyankshroff/Desktop/Git/Medium-Articles/medium_articles_book/_build/jupyter_execute/articles/Linear-Algebra/Linear Algebra II_28_0.png"
      },
      "needs_background": "light"
     },
     "output_type": "display_data"
    }
   ],
   "source": [
    "# Figure 3\n",
    "import matplotlib.pyplot as plt\n",
    "import matplotlib.animation as manimation\n",
    "#from mpl_toolkits.axisartist.axislines import AxesZero\n",
    "from mpl_toolkits import axisartist\n",
    "import imageio\n",
    "import os \n",
    "\n",
    "u = np.array([1,1])\n",
    "v = np.array([1,3])\n",
    "\n",
    "lin_trans = np.array([[2,2],[5,-1]])\n",
    "\n",
    "u_prime = np.matmul(lin_trans, u)\n",
    "v_prime = np.matmul(lin_trans, v)\n",
    "\n",
    "fig = plt.figure()\n",
    "ax = fig.add_subplot(axes_class=axisartist.Axes)\n",
    "ax.axis[\"y=0\"] = ax.new_floating_axis(nth_coord=0, value=0,\n",
    "                                        axis_direction=\"bottom\")\n",
    "ax.axis[\"y=0\"].toggle(all=True)\n",
    "# Make other axis invisible.\n",
    "ax.axis[\"top\", \"right\"].set_visible(False)\n",
    "\n",
    "# One \n",
    "ax.annotate('',\n",
    "        xytext=(0,0),\n",
    "        xy=u, #(),\n",
    "        arrowprops=dict(arrowstyle=\"->\", color='green'),\n",
    "        size=20\n",
    "    )\n",
    "ax.annotate(\n",
    "        xy=(1.2,1.2),\n",
    "        text='u',\n",
    "        size=12,\n",
    "        color='green'\n",
    "    )\n",
    "ax.annotate('',\n",
    "        xytext=(0,0),\n",
    "        xy=v, #(0.0,4.0),\n",
    "        arrowprops=dict(arrowstyle=\"->\", color='blue'),\n",
    "        size=20\n",
    "    )\n",
    "ax.annotate(\n",
    "        xy=(1.2,3.2),\n",
    "        text='v',\n",
    "        size=12,\n",
    "        color='blue'\n",
    "    )\n",
    "\n",
    "plt.grid()\n",
    "plt.xlim(0,5)\n",
    "plt.ylim(0,5)\n",
    "\n",
    "plt.savefig('1.png')"
   ]
  },
  {
   "cell_type": "code",
   "execution_count": 16,
   "id": "6c6528db",
   "metadata": {},
   "outputs": [
    {
     "data": {
      "image/png": "[encoded data removed]",
      "text/plain": [
       "<Figure size 432x288 with 1 Axes>"
      ]
     },
     "metadata": {
      "filenames": {
       "image/png": "/Users/priyankshroff/Desktop/Git/Medium-Articles/medium_articles_book/_build/jupyter_execute/articles/Linear-Algebra/Linear Algebra II_29_0.png"
      },
      "needs_background": "light"
     },
     "output_type": "display_data"
    }
   ],
   "source": [
    "fig = plt.figure()\n",
    "ax = fig.add_subplot(axes_class=axisartist.Axes)\n",
    "ax.axis[\"y=0\"] = ax.new_floating_axis(nth_coord=0, value=0,\n",
    "                                        axis_direction=\"bottom\")\n",
    "ax.axis[\"y=0\"].toggle(all=True)\n",
    "# Make other axis invisible.\n",
    "ax.axis[\"top\", \"right\"].set_visible(False)\n",
    "\n",
    "# Two \n",
    "ax.annotate('',\n",
    "        xytext=(0,0),\n",
    "        xy=u, #(),\n",
    "        arrowprops=dict(arrowstyle=\"->\", color='green'),\n",
    "        size=20\n",
    "    )\n",
    "ax.annotate(\n",
    "        xy=(1.2,1.2),\n",
    "        text='u',\n",
    "        size=12,\n",
    "        color='green'\n",
    "    )\n",
    "ax.annotate('',\n",
    "        xytext=(0,0),\n",
    "        xy=u_prime, #(),\n",
    "        arrowprops=dict(arrowstyle=\"->\", linestyle='--', color='green'),\n",
    "        size=20\n",
    "    )\n",
    "ax.annotate(\n",
    "        xy=(4.2,4.2),\n",
    "        text='u_prime',\n",
    "        size=12,\n",
    "        color='green'\n",
    "    )\n",
    "\n",
    "ax.annotate('',\n",
    "        xytext=(0,0),\n",
    "        xy=v, #(0.0,4.0),\n",
    "        arrowprops=dict(arrowstyle=\"->\", color='blue'),\n",
    "        size=20\n",
    "    )\n",
    "ax.annotate(\n",
    "        xy=(1.2,3.2),\n",
    "        text='v',\n",
    "        size=12,\n",
    "        color='blue'\n",
    "    )\n",
    "\n",
    "ax.annotate('',\n",
    "        xytext=(0,0),\n",
    "        xy=v_prime, #(0.0,4.0),\n",
    "        arrowprops=dict(arrowstyle=\"->\", linestyle='--', color='blue'),\n",
    "        size=20\n",
    "    )\n",
    "ax.annotate(\n",
    "        xy=(8.2,2.2),\n",
    "        text='v_prime',\n",
    "        size=12,\n",
    "        color='blue'\n",
    "    )\n",
    "\n",
    "plt.grid()\n",
    "plt.xlim(0,9)\n",
    "plt.ylim(0,5)\n",
    "\n",
    "plt.savefig('2.png')"
   ]
  },
  {
   "cell_type": "code",
   "execution_count": 17,
   "id": "a6c884d8",
   "metadata": {},
   "outputs": [],
   "source": [
    "# Build GIF\n",
    "filename = []\n",
    "for i in range(10):\n",
    "    filename.append('1.png')\n",
    "\n",
    "for i in range(10):\n",
    "    filename.append('2.png')\n",
    "\n",
    "\n",
    "with imageio.get_writer('mygif.gif', mode='I') as writer:\n",
    "    for filename in filename:\n",
    "        image = imageio.imread(filename)\n",
    "        writer.append_data(image)\n"
   ]
  },
  {
   "cell_type": "markdown",
   "id": "57d29d88",
   "metadata": {},
   "source": [
    "<sup>1</sup>https://en.wikipedia.org/wiki/Determinant\n",
    "\n",
    "<sup>2</sup>https://en.wikipedia.org/wiki/Invertible_matrix#Examples\n",
    "\n",
    "<sup>3</sup> https://en.wikipedia.org/wiki/Eigenvalues_and_eigenvectors\n",
    "\n",
    "<sup>4</sup> https://pythonnumericalmethods.berkeley.edu/notebooks/chapter15.01-Eigenvalues-and-Eigenvectors-Problem-Statement.html"
   ]
  },
  {
   "cell_type": "code",
   "execution_count": null,
   "id": "7f6fb237",
   "metadata": {},
   "outputs": [],
   "source": []
  }
 ],
 "metadata": {
  "kernelspec": {
   "display_name": "Python 3 (ipykernel)",
   "language": "python",
   "name": "python3"
  },
  "language_info": {
   "codemirror_mode": {
    "name": "ipython",
    "version": 3
   },
   "file_extension": ".py",
   "mimetype": "text/x-python",
   "name": "python",
   "nbconvert_exporter": "python",
   "pygments_lexer": "ipython3",
   "version": "3.9.10"
  }
 },
 "nbformat": 4,
 "nbformat_minor": 5
}