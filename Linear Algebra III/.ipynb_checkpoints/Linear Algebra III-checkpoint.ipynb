{
 "cells": [
  {
   "cell_type": "markdown",
   "id": "14a0bdbd",
   "metadata": {},
   "source": [
    "## Linear Algebra Part III\n",
    "\n",
    "In this final article of the three part series, we will talk about two types of decomposition, specifically LU and Eigen Decomposition. And then finally talk about how we can use Linear Algebra to solve the Linear Regression Problem. \n",
    "\n",
    "If you havent read the first two articles, they are linked below:\n",
    "1. Linear Algebra with NumPy- Part I\n",
    "2. Linear Algebra with NumPy- Part II \n",
    "\n",
    "### Part I: Introduction \n",
    "Before jumping into the two decomposition, lets talk a little bit about what matrix decompositions are and why they are helpful. \n",
    "\n",
    "A matrix decomposition or matrix factorization is essentially reducing your matrix to a product of matrices. The decomposition is done because it makes performing computations easier on the resulting matrices than the original matrix. \n",
    "\n",
    "A common analogy for matrix decomposition is the factoring of numbers, such as the factoring of 10 into 2 x 5. For this reason, matrix decomposition is also called matrix factorization. Like factoring real values, there are many ways to decompose a matrix, hence there are a range of different matrix decomposition techniques, each helping solve a particular class of problems. Some examples include LU decomposition, Eigen decomposition, QR decomposition, & Singular Value decomposition. <sup>1</sup> \n",
    "\n",
    "\n",
    "### Part II: LU Decomposition\n",
    "\n",
    "The first type of decomposition we will look at is the LU decomposition. Here the \"L\" stands for Lower Triangular Matrix and \"U\" stands for Upper Triangular Matrix. This means we decompose our original matrix into the product of a lower and upper triangular matrices. This type of decompoisition is particularly useful when solving a linear system of equations. If you remember from the previous article, solving a linear system of equations can be done in NumPy using the `linalg.solve` function. "
   ]
  },
  {
   "cell_type": "markdown",
   "id": "a15d0866",
   "metadata": {},
   "source": [
    "<sup>1</sup> https://machinelearningmastery.com/introduction-to-matrix-decompositions-for-machine-learning/"
   ]
  },
  {
   "cell_type": "code",
   "execution_count": null,
   "id": "51cc36f9",
   "metadata": {},
   "outputs": [],
   "source": []
  }
 ],
 "metadata": {
  "kernelspec": {
   "display_name": "Python 3 (ipykernel)",
   "language": "python",
   "name": "python3"
  },
  "language_info": {
   "codemirror_mode": {
    "name": "ipython",
    "version": 3
   },
   "file_extension": ".py",
   "mimetype": "text/x-python",
   "name": "python",
   "nbconvert_exporter": "python",
   "pygments_lexer": "ipython3",
   "version": "3.9.10"
  }
 },
 "nbformat": 4,
 "nbformat_minor": 5
}
